{
 "cells": [
  {
   "cell_type": "code",
   "execution_count": null,
   "id": "a41ca0da-791a-497c-90ce-e26c78379ecb",
   "metadata": {},
   "outputs": [],
   "source": [
    "uvicorn back:app --reload"
   ]
  },
  {
   "cell_type": "code",
   "execution_count": 1,
   "id": "943ceb37-af98-440e-9e96-51fb6ed7ce8d",
   "metadata": {},
   "outputs": [],
   "source": [
    "!git config user.email bogenarc@gmail.com\n",
    "!git config user.name pablochen\n",
    "!git config --global credential.helper store"
   ]
  }
 ],
 "metadata": {
  "kernelspec": {
   "display_name": "Python 3 (ipykernel)",
   "language": "python",
   "name": "python3"
  },
  "language_info": {
   "codemirror_mode": {
    "name": "ipython",
    "version": 3
   },
   "file_extension": ".py",
   "mimetype": "text/x-python",
   "name": "python",
   "nbconvert_exporter": "python",
   "pygments_lexer": "ipython3",
   "version": "3.10.12"
  }
 },
 "nbformat": 4,
 "nbformat_minor": 5
}
