{
 "cells": [
  {
   "cell_type": "code",
   "execution_count": null,
   "id": "a41ca0da-791a-497c-90ce-e26c78379ecb",
   "metadata": {},
   "outputs": [],
   "source": [
    "uvicorn back:app --reload"
   ]
  },
  {
   "cell_type": "code",
   "execution_count": null,
   "id": "943ceb37-af98-440e-9e96-51fb6ed7ce8d",
   "metadata": {},
   "outputs": [],
   "source": [
    "!git config user.email bogenarc@gmail.com\n",
    "!git config user.name pablochen\n",
    "!git config --global credential.helper store"
   ]
  },
  {
   "cell_type": "code",
   "execution_count": null,
   "id": "975495cb-141b-4aa0-9052-1c64cac3f57c",
   "metadata": {},
   "outputs": [],
   "source": [
    "echo \"# yollama-back\" >> README.md\n",
    "git init\n",
    "git add README.md\n",
    "git commit -m \"first commit\"\n",
    "git branch -M main\n",
    "git remote add origin https://github.com/pablochen/yollama-back.git\n",
    "git push -u origin main"
   ]
  }
 ],
 "metadata": {
  "kernelspec": {
   "display_name": "Python 3 (ipykernel)",
   "language": "python",
   "name": "python3"
  },
  "language_info": {
   "codemirror_mode": {
    "name": "ipython",
    "version": 3
   },
   "file_extension": ".py",
   "mimetype": "text/x-python",
   "name": "python",
   "nbconvert_exporter": "python",
   "pygments_lexer": "ipython3",
   "version": "3.10.12"
  }
 },
 "nbformat": 4,
 "nbformat_minor": 5
}
